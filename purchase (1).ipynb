{
  "nbformat": 4,
  "nbformat_minor": 0,
  "metadata": {
    "colab": {
      "name": "purchase.ipynb",
      "provenance": [],
      "collapsed_sections": []
    },
    "kernelspec": {
      "name": "python3",
      "display_name": "Python 3"
    },
    "language_info": {
      "name": "python"
    }
  },
  "cells": [
    {
      "cell_type": "code",
      "metadata": {
        "id": "dxt_2DBa6rCa"
      },
      "source": [
        "product ={ 11001 : {\"Name\" : \"Toothpaste\" ,\"Price\" : \"20\",\"Quantity\" : \"60\",\"Category\" : \"Gel\"         ,\"Discount\" : \"1\"},\n",
        "           11002 : {\"Name\" : \"chocolate\"  ,\"Price\" : \"5\" ,\"Quantity\" : \"80\",\"Category\" : \"Snacks\"      ,\"Discount\" : \"2\"},\n",
        "           11003 : {\"Name\" : \"Tea powdwer\",\"Price\" : \"40\",\"Quantity\" : \"58\",\"Category\" : \"beverage\"    ,\"Discount\" : \"1\"},\n",
        "           11004 : {\"Name\" : \"maggie\"     ,\"Price\" : \"12\",\"Quantity\" : \"75\",\"Category\" : \"Snacks\"      ,\"Discount\" : \"2\"},\n",
        "           11005 : {\"Name\" : \"kurkure\"    ,\"Price\" : \"10\",\"Quantity\" : \"64\",\"Category\" : \"Snacks\"      ,\"Discount\" : \"1\"},\n",
        "           11006 : {\"Name\" : \"hairoil\"    ,\"Price\" : \"60\",\"Quantity\" : \"50\",\"Category\" : \"Oil\"         ,\"Discount\" : \"3\"},\n",
        "           11007 : {\"Name\" : \"Lays\"       ,\"Price\" : \"5\" ,\"Quantity\" : \"70\",\"Category\" : \"Snacks\"      ,\"Discount\" : \"1\"},\n",
        "           11008 : {\"Name\" : \"Pickles\"    ,\"Price\" : \"40\",\"Quantity\" : \"54\",\"Category\" : \"Spicy\"       ,\"Discount\" : \"2\"},\n",
        "           11009 : {\"Name\" : \"keychian\"   ,\"Price\" : \"20\",\"Quantity\" : \"60\",\"Category\" : \"keyholder\"   ,\"Discount\" : \"1\"},\n",
        "           11010 : {\"Name\" : \"Bun\"        ,\"Price\" : \"5\" ,\"Quantity\" : \"86\",\"Category\" : \"Bakery\"      ,\"Discount\" : \"2\"},\n",
        "           11011 : {\"Name\" : \"Biscut\"     ,\"Price\" : \"15\",\"Quantity\" : \"75\",\"Category\" : \"Bakery\"      ,\"Discount\" : \"1\"},\n",
        "           11012 : {\"Name\" : \"Souse\"      ,\"Price\" : \"25\",\"Quantity\" : \"56\",\"Category\" : \"Spicy\"       ,\"Discount\" : \"1\"},\n",
        "           11013 : {\"Name\" : \"Bread\"      ,\"Price\" : \"20\",\"Quantity\" : \"45\",\"Category\" : \"Bakery\"      ,\"Discount\" : \"2\"},\n",
        "           11014 : {\"Name\" : \"paperset\"   ,\"Price\" : \"10\",\"Quantity\" : \"55\",\"Category\" : \"----\"        ,\"Discount\" : \"1\"},\n",
        "           11015 : {\"Name\" : \"book\"       ,\"Price\" : \"15\",\"Quantity\" : \"57\",\"Category\" : \"-----\"       ,\"Discount\" : \"1\"},\n",
        "           11016 : {\"Name\" : \"Jam\"        ,\"Price\" : \"25\",\"Quantity\" : \"98\",\"Category\" : \"Fruit\"       ,\"Discount\" : \"2\"},\n",
        "           11017 : {\"Name\" : \"kinderjoy\"  ,\"Price\" : \"25\",\"Quantity\" : \"67\",\"Category\" : \"Chocolate\"   ,\"Discount\" : \"1\"},\n",
        "           11018 : {\"Name\" : \"bottel\"     ,\"Price\" : \"20\",\"Quantity\" : \"45\",\"Category\" : \"-----\"       ,\"Discount\" : \"2\"},\n",
        "           11019 : {\"Name\" : \"cardbord\"   ,\"Price\" : \"10\",\"Quantity\" : \"87\",\"Category\" : \"-----\"       ,\"Discount\" : \"2\"},\n",
        "           11020 : {\"Name\" : \"Smiley\"     ,\"Price\" : \"5\" ,\"Quantity\" : \"56\",\"Category\" : \"-----\"       ,\"Discount\" : \"1\"},\n",
        "           11021 : {\"Name\" : \"Coke\"       ,\"Price\" : \"18\",\"Quantity\" : \"76\",\"Category\" : \"Beverage\"    ,\"Discount\" : \"1\"},\n",
        "           11022 : {\"Name\" : \"Ice cream\"  ,\"Price\" : \"20\",\"Quantity\" : \"87\",\"Category\" : \"Milkproducts\",\"Discount\" : \"2\"},\n",
        "           11023 : {\"Name\" : \"jeera\"      ,\"Price\" : \"10\",\"Quantity\" : \"67\",\"Category\" : \"Food\"        ,\"Discount\" : \"1\"},\n",
        "           11024 : {\"Name\" : \"napkin\"     ,\"Price\" : \"15\",\"Quantity\" : \"87\",\"Category\" : \"-----\"       ,\"Discount\" : \"1\"},\n",
        "           11025 : {\"Name\" : \"plasic bags\",\"Price\" : \"15\",\"Quantity\" : \"86\",\"Category\" : \"-----\"       ,\"Discount\" : \"2\"},\n",
        "           11026 : {\"Name\" : \"hairband\"   ,\"Price\" : \"5\" ,\"Quantity\" : \"68\",\"Category\" : \"-----\"       ,\"Discount\" : \"2\"},\n",
        "           11027 : {\"Name\" : \"Brush\"      ,\"Price\" : \"15\",\"Quantity\" : \"98\",\"Category\" : \"-----\"       ,\"Discount\" : \"1\"},\n",
        "           11028 : {\"Name\" : \"Face Creram\",\"Price\" : \"40\",\"Quantity\" : \"67\",\"Category\" : \"Gel\"         ,\"Discount\" : \"1\"},\n",
        "           11029 : {\"Name\" : \"Gillet\"     ,\"Price\" : \"15\",\"Quantity\" : \"67\",\"Category\" : \"-----\"       ,\"Discount\" : \"2\"},\n",
        "           11030 : {\"Name\" : \"Socks\"      ,\"Price\" : \"50\",\"Quantity\" : \"67\",\"Category\" : \"------\"      ,\"Discount\" : \"1\"}}"
      ],
      "execution_count": 27,
      "outputs": []
    },
    {
      "cell_type": "code",
      "metadata": {
        "id": "Ab0O3sK87e22"
      },
      "source": [
        "import json\n",
        "jd = json.dumps(product)"
      ],
      "execution_count": 28,
      "outputs": []
    },
    {
      "cell_type": "code",
      "metadata": {
        "id": "J1B12-Zn7ueZ"
      },
      "source": [
        "vs =open(\"product.json\",'w')\n",
        "vs.write(jd)\n",
        "vs.close()"
      ],
      "execution_count": 29,
      "outputs": []
    },
    {
      "cell_type": "code",
      "metadata": {
        "id": "jCOreJfc8ECZ",
        "colab": {
          "base_uri": "https://localhost:8080/"
        },
        "outputId": "81a9c547-829f-449c-a7d6-78ede0ee4282"
      },
      "source": [
        "pr_id       = input(\"enter the new product id : \")\n",
        "pr_quantity = int(input(\"enter the quantity of the product :\"))\n",
        "pr_name     = input(\"enter the name of product :\")\n",
        "pr_category = input(\"enter the category of the product :\")\n",
        "pr_discount = input(\"enter the discount :\")\n",
        "pr_price    = input(\"enter the price of the product : \")\n",
        "\n"
      ],
      "execution_count": 46,
      "outputs": [
        {
          "name": "stdout",
          "output_type": "stream",
          "text": [
            "enter the new product id : 11035\n",
            "enter the quantity of the product :3\n",
            "enter the name of product :eraser\n",
            "enter the category of the product :study\n",
            "enter the discount :1\n",
            "enter the price of the product : 3\n"
          ]
        }
      ]
    },
    {
      "cell_type": "code",
      "metadata": {
        "id": "gY1JC1uBE0Zw"
      },
      "source": [
        "\n",
        "product[pr_id] = {\"Name\":pr_name,\"Price\":pr_price,\"Quantity\":pr_quantity,\"Category\":pr_category,\"Discount\":pr_discount}\n",
        " \n"
      ],
      "execution_count": 50,
      "outputs": []
    },
    {
      "cell_type": "code",
      "metadata": {
        "id": "rdjXxQAuSLNC"
      },
      "source": [
        "jd = json.dumps(product)\n",
        "\n",
        "fd = open(\"product.json\",'w')\n",
        "fd.write(jd)\n",
        "fd.close()\n",
        "\n",
        "fh = open(\"product.json\",'r')\n",
        "fh.read()\n",
        "fh.close()"
      ],
      "execution_count": 48,
      "outputs": []
    },
    {
      "cell_type": "code",
      "metadata": {
        "id": "waw1wikIFVbM"
      },
      "source": [
        ""
      ],
      "execution_count": null,
      "outputs": []
    }
  ]
}